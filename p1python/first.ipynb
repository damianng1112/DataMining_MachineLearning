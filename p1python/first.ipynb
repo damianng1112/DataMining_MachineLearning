{
 "cells": [
  {
   "cell_type": "code",
   "execution_count": 26,
   "id": "537cbe72-60e0-4f68-bed4-4a55e5c5f4fd",
   "metadata": {},
   "outputs": [
    {
     "name": "stdout",
     "output_type": "stream",
     "text": [
      "x:  [12  3  6 14]\n",
      "<class 'numpy.ndarray'>\n",
      "x.ndim:  1\n",
      "x.shape:  (4,)\n",
      "12\n",
      "6\n"
     ]
    }
   ],
   "source": [
    "import numpy as np\n",
    "\n",
    "x = np.array([12, 3, 6, 14])\n",
    "print(\"x: \", x)\n",
    "print(type(x))\n",
    "print(\"x.ndim: \",x.ndim)\n",
    "print(\"x.shape: \", x.shape)\n",
    "print(x[0])\n",
    "print(x[-2])"
   ]
  },
  {
   "cell_type": "code",
   "execution_count": 22,
   "id": "f3c4cce2-5472-4a72-b72c-8aa535dadd26",
   "metadata": {},
   "outputs": [
    {
     "name": "stdout",
     "output_type": "stream",
     "text": [
      "x.ndim:  2\n",
      "x.shape:  (3, 4)\n",
      "2\n"
     ]
    }
   ],
   "source": [
    "x = np.array([ [1, 2, 3, 4],\n",
    " [5, 6, 7, 8],\n",
    " [9, 10, 11, 12]\n",
    " ])\n",
    "print(\"x.ndim: \", x.ndim)\n",
    "print(\"x.shape: \", x.shape)\n",
    "print(x[0,1])"
   ]
  },
  {
   "cell_type": "code",
   "execution_count": 23,
   "id": "1fec452f-914e-4897-bbe9-ddc6f9dd33b9",
   "metadata": {},
   "outputs": [
    {
     "name": "stdout",
     "output_type": "stream",
     "text": [
      "x.ndim:  3\n",
      "x.shape:  (2, 3, 4)\n",
      "7\n"
     ]
    }
   ],
   "source": [
    "x = np.array([\n",
    " [[1, 2, 3, 4], [5, 6, 7, 8], [9, 10, 11, 12]],\n",
    " [[21, 22, 23, 24], [25, 26, 27, 28], [29, 30, 31, 32]]\n",
    " ])\n",
    "print(\"x.ndim: \", x.ndim)\n",
    "print(\"x.shape: \", x.shape)\n",
    "print(x[0,1,2])"
   ]
  },
  {
   "cell_type": "code",
   "execution_count": 29,
   "id": "9e613edc-0a40-43ca-9247-7333f038ce3d",
   "metadata": {},
   "outputs": [
    {
     "name": "stdout",
     "output_type": "stream",
     "text": [
      "[3 4 5 6 7]\n",
      "[ 3  4  5  6  7  8  9 10]\n",
      "[3 5 7]\n",
      "[3 4 5 6 7 8 9]\n",
      "[3 4 5 6 7]\n",
      "[ 3  4  5  6  7  8  9 10]\n",
      "[0 1 2 3 4]\n",
      "[ 0  1  2  3  4  5  6  7  8  9 10]\n",
      "[3 4 5 6 7]\n",
      "[3 4 5 6 7]\n",
      "[33  4  5  6  7]\n",
      "[ 0  1  2 33  4  5  6  7  8  9 10]\n"
     ]
    }
   ],
   "source": [
    "import numpy as np\n",
    "arr = np.array([0, 1, 2, 3, 4, 5, 6, 7, 8, 9, 10])\n",
    "print(arr[3:8])\n",
    "print(arr[3:11])\n",
    "print(arr[3:8:2])\n",
    "print(arr[3:-1])\n",
    "print(arr[3:-3])\n",
    "print(arr[3:])\n",
    "print(arr[:5])\n",
    "b = arr[3:8].copy()\n",
    "print(arr)\n",
    "print(b)\n",
    "new = arr[3:8]\n",
    "print(new)\n",
    "new[0] = 33\n",
    "print(new)\n",
    "print(arr)"
   ]
  },
  {
   "cell_type": "code",
   "execution_count": 25,
   "id": "0fb392ca-6d54-4a1b-9ffd-ed81eaf7807f",
   "metadata": {},
   "outputs": [
    {
     "name": "stdout",
     "output_type": "stream",
     "text": [
      "[[ 0  1  2  3]\n",
      " [ 4  5  6  7]\n",
      " [ 8  9 10 11]]\n",
      "[[[ 0  1  2]\n",
      "  [ 3  4  5]]\n",
      "\n",
      " [[ 6  7  8]\n",
      "  [ 9 10 11]]]\n",
      "[[[ 0  1  2]\n",
      "  [ 3  4  5]]\n",
      "\n",
      " [[ 6  7  8]\n",
      "  [ 9 10 11]]]\n"
     ]
    }
   ],
   "source": [
    "import numpy as np\n",
    "arr = np.array([0, 1, 2, 3, 4, 5, 6, 7, 8, 9, 10, 11])\n",
    "b = arr.reshape(3, 4)\n",
    "print(b)\n",
    "b = arr.reshape(2,2,3)\n",
    "print(b)\n",
    "b = arr.reshape(2,2,-1)\n",
    "print(b)"
   ]
  },
  {
   "cell_type": "code",
   "execution_count": null,
   "id": "eb568425-0f65-4972-a984-09dbacff7be7",
   "metadata": {},
   "outputs": [],
   "source": []
  }
 ],
 "metadata": {
  "kernelspec": {
   "display_name": "Python 3 (ipykernel)",
   "language": "python",
   "name": "python3"
  },
  "language_info": {
   "codemirror_mode": {
    "name": "ipython",
    "version": 3
   },
   "file_extension": ".py",
   "mimetype": "text/x-python",
   "name": "python",
   "nbconvert_exporter": "python",
   "pygments_lexer": "ipython3",
   "version": "3.8.19"
  }
 },
 "nbformat": 4,
 "nbformat_minor": 5
}
