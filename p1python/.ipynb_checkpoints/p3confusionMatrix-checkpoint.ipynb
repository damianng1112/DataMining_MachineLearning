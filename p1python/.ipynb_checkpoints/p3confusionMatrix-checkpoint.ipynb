{
 "cells": [
  {
   "cell_type": "code",
   "execution_count": 14,
   "id": "9052ec64-cc9f-4670-9e33-b2d4c2f188e5",
   "metadata": {},
   "outputs": [
    {
     "name": "stdout",
     "output_type": "stream",
     "text": [
      "[[0 2]\n",
      " [1 1]]\n",
      "\n",
      "  0  1  P \n",
      "0 TN FP\n",
      "1 FN TP\n",
      "A\n",
      "\n",
      "TN 0 FP 2 FN 1 TP 1\n"
     ]
    }
   ],
   "source": [
    "from sklearn.metrics import confusion_matrix\n",
    "actual = [0, 1, 0, 1]\n",
    "predicted = [1, 1, 1, 0]\n",
    "cm = confusion_matrix(actual, predicted)\n",
    "print(cm)\n",
    "print()\n",
    "print(\" \", \"0 \", \"1 \", \"P \")\n",
    "print(0, \"TN\", \"FP\")\n",
    "print(1, \"FN\", \"TP\")\n",
    "print(\"A\")\n",
    "print()\n",
    "tn, fp, fn, tp = cm.ravel()\n",
    "print(\"TN\", tn, \"FP\", fp, \"FN\", fn, \"TP\", tp)"
   ]
  },
  {
   "cell_type": "code",
   "execution_count": 15,
   "id": "f55b19c3-ac98-4a7a-bc1f-1065ac710ae6",
   "metadata": {},
   "outputs": [
    {
     "name": "stdout",
     "output_type": "stream",
     "text": [
      "[[0 2]\n",
      " [1 1]]\n",
      "\n",
      "  B  M  P \n",
      "B TN FP\n",
      "M FN TP\n",
      "A\n",
      "\n",
      "TN 0 FP 1 FN 1 TP 2\n"
     ]
    }
   ],
   "source": [
    "actual = ['B', 'M', 'B', 'M']\n",
    "predicted = ['M', 'M', 'M', 'B']\n",
    "cm = confusion_matrix(actual, predicted)\n",
    "print(cm)\n",
    "print()\n",
    "print(\" \", \"B \", \"M \", \"P \")\n",
    "print(\"B\", \"TN\", \"FP\")\n",
    "print(\"M\", \"FN\", \"TP\")\n",
    "print(\"A\")\n",
    "print()\n",
    "tn, tp, fp, fn = cm.ravel()\n",
    "print('TN', tn, 'FP', fp, 'FN', fn, 'TP', tp)"
   ]
  },
  {
   "cell_type": "code",
   "execution_count": 22,
   "id": "95602b35-2e5a-4394-a8ed-431683bd0892",
   "metadata": {},
   "outputs": [
    {
     "name": "stdout",
     "output_type": "stream",
     "text": [
      "[[0 2]\n",
      " [1 1]]\n",
      "\n",
      "  W  M  P \n",
      "W TN FP\n",
      "M FN TP\n",
      "A\n",
      "\n",
      "[0 2 1 1]\n",
      "TN 0 FP 1 FN 1 TP 2\n"
     ]
    }
   ],
   "source": [
    "actual = ['W', 'M', 'W', 'M']\n",
    "predicted = ['M', 'M', 'M', 'W']\n",
    "cm = confusion_matrix(actual, predicted, labels=['W','M'])\n",
    "print(cm)\n",
    "print()\n",
    "print(\" \", \"W \", \"M \", \"P \")\n",
    "print(\"W\", \"TN\", \"FP\")\n",
    "print(\"M\", \"FN\", \"TP\")\n",
    "print(\"A\")\n",
    "print()\n",
    "print(cm.ravel())\n",
    "tn, tp, fp, fn = cm.ravel()\n",
    "print('TN', tn, 'FP', fp, 'FN', fn, 'TP', tp)"
   ]
  },
  {
   "cell_type": "code",
   "execution_count": 21,
   "id": "38db99ae-38b6-4a07-98c2-cb2c379ea099",
   "metadata": {},
   "outputs": [
    {
     "name": "stdout",
     "output_type": "stream",
     "text": [
      "[[2 0 0]\n",
      " [0 0 1]\n",
      " [1 0 2]]\n",
      "[[2 0 0]\n",
      " [1 2 0]\n",
      " [0 1 0]]\n",
      "r [2 0 0 1 2 0 0 1 0]\n"
     ]
    }
   ],
   "source": [
    "actual = [\"cat\", \"ant\", \"cat\", \"cat\", \"ant\", \"bird\"]\n",
    "predicted = [\"ant\", \"ant\", \"cat\", \"cat\", \"ant\", \"cat\"]\n",
    "cm = confusion_matrix(actual, predicted)\n",
    "print(cm)\n",
    "cm = confusion_matrix(actual, predicted,\n",
    "labels=[\"ant\", \"cat\", \"bird\"])\n",
    "print(cm)\n",
    "r = cm.ravel()\n",
    "print('r', r)"
   ]
  },
  {
   "cell_type": "code",
   "execution_count": null,
   "id": "f93a7ea5-4c6e-4054-9b48-b62aa59864c1",
   "metadata": {},
   "outputs": [],
   "source": []
  }
 ],
 "metadata": {
  "kernelspec": {
   "display_name": "Python 3 (ipykernel)",
   "language": "python",
   "name": "python3"
  },
  "language_info": {
   "codemirror_mode": {
    "name": "ipython",
    "version": 3
   },
   "file_extension": ".py",
   "mimetype": "text/x-python",
   "name": "python",
   "nbconvert_exporter": "python",
   "pygments_lexer": "ipython3",
   "version": "3.8.19"
  }
 },
 "nbformat": 4,
 "nbformat_minor": 5
}
